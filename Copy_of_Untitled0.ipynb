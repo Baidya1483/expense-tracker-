{
  "nbformat": 4,
  "nbformat_minor": 0,
  "metadata": {
    "colab": {
      "provenance": [],
      "gpuType": "T4",
      "authorship_tag": "ABX9TyN96EdGGOwl1eyvdN12Iye3",
      "include_colab_link": true
    },
    "kernelspec": {
      "name": "python3",
      "display_name": "Python 3"
    },
    "language_info": {
      "name": "python"
    },
    "accelerator": "GPU"
  },
  "cells": [
    {
      "cell_type": "markdown",
      "metadata": {
        "id": "view-in-github",
        "colab_type": "text"
      },
      "source": [
        "<a href=\"https://colab.research.google.com/github/Baidya1483/expense-tracker-/blob/main/Copy_of_Untitled0.ipynb\" target=\"_parent\"><img src=\"https://colab.research.google.com/assets/colab-badge.svg\" alt=\"Open In Colab\"/></a>"
      ]
    },
    {
      "cell_type": "code",
      "source": [
        "import torch\n",
        "from transformers import pipeline\n",
        "\n",
        "# Check if GPU is available, and set device accordingly\n",
        "device = 0 if torch.cuda.is_available() else -1\n",
        "\n",
        "# Load the text generation pipeline using GPT-Neo (adjust model if needed)\n",
        "generator = pipeline(\"text-generation\", model=\"EleutherAI/gpt-neo-125M\", device=device)\n",
        "\n",
        "# Ask a question (without needing context)\n",
        "question = \"Who is the current president of the United States?\"\n",
        "\n",
        "# Generate the response (answer)\n",
        "result = generator(\n",
        "    question,\n",
        "    max_length=75,  # Increased max_length\n",
        "    num_return_sequences=1,\n",
        "    temperature=0.7,\n",
        "    truncation=True  # Added truncation\n",
        ")\n",
        "\n",
        "# Print the generated answer\n",
        "print(\"Answer:\", result[0]['generated_text'])"
      ],
      "metadata": {
        "colab": {
          "base_uri": "https://localhost:8080/"
        },
        "id": "fmDp5fFvcp2M",
        "outputId": "7914c563-89db-452d-a587-be8a90603eb3"
      },
      "execution_count": null,
      "outputs": [
        {
          "output_type": "stream",
          "name": "stderr",
          "text": [
            "Setting `pad_token_id` to `eos_token_id`:50256 for open-end generation.\n"
          ]
        },
        {
          "output_type": "stream",
          "name": "stdout",
          "text": [
            "Answer: Who is the current president of the United States?\n",
            "\n",
            "President Obama is the current president of the United States.\n",
            "\n",
            "President Obama is the current president of the United States.\n",
            "\n",
            "President Obama is the current president of the United States.\n",
            "\n",
            "President Obama is the current president of the United States.\n",
            "\n",
            "President Obama is the current president of the United States.\n"
          ]
        }
      ]
    },
    {
      "cell_type": "code",
      "source": [],
      "metadata": {
        "id": "yD0SUqBNiT9b"
      },
      "execution_count": null,
      "outputs": []
    }
  ]
}